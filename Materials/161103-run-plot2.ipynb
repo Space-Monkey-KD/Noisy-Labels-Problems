{
 "cells": [
  {
   "cell_type": "code",
   "execution_count": 21,
   "metadata": {
    "collapsed": true
   },
   "outputs": [],
   "source": [
    "FN = '161103-run-plot'"
   ]
  },
  {
   "cell_type": "markdown",
   "metadata": {},
   "source": [
    "Plot validation accuracy vs. noise level for different experiments"
   ]
  },
  {
   "cell_type": "markdown",
   "metadata": {},
   "source": [
    "the results of the experiments are accumlated in:"
   ]
  },
  {
   "cell_type": "code",
   "execution_count": 22,
   "metadata": {
    "collapsed": true
   },
   "outputs": [],
   "source": [
    "FN1 = '160919-run-plot'"
   ]
  },
  {
   "cell_type": "markdown",
   "metadata": {},
   "source": [
    "each experiment is run by `run.bash` which runs the same experiment with different training size (`down_sample=.2,.5,1`) and in each time it runs (`run_all.bash`) with 5 different seeds.\n",
    "Each such run of `jacob-reed.py` includes a loop over different `noise_level`"
   ]
  },
  {
   "cell_type": "code",
   "execution_count": 23,
   "metadata": {},
   "outputs": [
    {
     "name": "stdout",
     "output_type": "stream",
     "text": [
      "160919-run-plot\n",
      "Writining all results to data/160919-run-plot...\n",
      "MNIST training data set label distribution [5923 6742 5958 6131 5842 5421 5918 6265 5851 5949]\n",
      "test distribution [ 980 1135 1032 1010  982  892  958 1028  974 1009]\n",
      "stratified train [5923 6742 5958 6131 5842 5421 5918 6265 5851 5949]\n",
      "X_train shape: (60000, 784)\n",
      "60000 train samples\n",
      "10000 test samples\n",
      "Experiment SMp_46-7904213568_10s\n",
      "Random classification {'baseline_loss': 2.322647158050537, 'loss': 2.3050852592468263, 'channeled_acc': 0.13830000000000001, 'channeled_loss': 2.3050852592468263, 'baseline_acc': 0.13769999999999999}\n",
      "NOISE: level 0.3000 error 0.3000\n",
      "Loading data/160919-run-plot.BM_46-7904213568_10s.0.300000.hdf5 to model_1\n",
      "input_1 skipping this is empty file layer\n",
      "hidden loading 784x500 500 500x300 300 hidden dense_1/kernel:0 is missing dense_1/bias:0 is missing dense_2/kernel:0 is missing dense_2/bias:0 is missing (bad #wgts) ABORT\n",
      "End classification {'baseline_loss': 11.864706327819825, 'loss': 0.83415239267349239, 'channeled_acc': 0.56630000000000003, 'channeled_loss': 0.83415239267349239, 'baseline_acc': 0.19689999999999999}\n",
      "NOISE: level 0.3600 error 0.3600\n",
      "Loading data/160919-run-plot.BM_46-7904213568_10s.0.360000.hdf5 to model_1\n",
      "input_1 skipping this is empty file layer\n",
      "hidden loading 784x500 500 500x300 300 hidden dense_1/kernel:0 is missing dense_1/bias:0 is missing dense_2/kernel:0 is missing dense_2/bias:0 is missing (bad #wgts) ABORT\n",
      "End classification {'baseline_loss': 12.273705223083496, 'loss': 0.91065117282867436, 'channeled_acc': 0.58830000000000005, 'channeled_loss': 0.91065117282867436, 'baseline_acc': 0.19600000000000001}\n",
      "NOISE: level 0.3800 error 0.3800\n",
      "Loading data/160919-run-plot.BM_46-7904213568_10s.0.380000.hdf5 to model_1\n",
      "input_1 skipping this is empty file layer\n",
      "hidden loading 784x500 500 500x300 300 hidden dense_1/kernel:0 is missing dense_1/bias:0 is missing dense_2/kernel:0 is missing dense_2/bias:0 is missing (bad #wgts) ABORT\n",
      "End classification {'baseline_loss': 12.337561065673828, 'loss': 0.94412724514007573, 'channeled_acc': 0.58689999999999998, 'channeled_loss': 0.94412724514007573, 'baseline_acc': 0.19689999999999999}\n",
      "NOISE: level 0.4000 error 0.4000\n",
      "Loading data/160919-run-plot.BM_46-7904213568_10s.0.400000.hdf5 to model_1\n",
      "input_1 skipping this is empty file layer\n",
      "hidden loading 784x500 500 500x300 300 hidden dense_1/kernel:0 is missing dense_1/bias:0 is missing dense_2/kernel:0 is missing dense_2/bias:0 is missing (bad #wgts) ABORT\n",
      "End classification {'baseline_loss': 12.204453985595704, 'loss': 0.96354956874847408, 'channeled_acc': 0.57440000000000002, 'channeled_loss': 0.96354956874847408, 'baseline_acc': 0.19289999999999999}\n",
      "NOISE: level 0.4200 error 0.4200\n",
      "Loading data/160919-run-plot.BM_46-7904213568_10s.0.420000.hdf5 to model_1\n",
      "input_1 skipping this is empty file layer\n",
      "hidden loading 784x500 500 500x300 300 hidden dense_1/kernel:0 is missing dense_1/bias:0 is missing dense_2/kernel:0 is missing dense_2/bias:0 is missing (bad #wgts) ABORT\n",
      "End classification {'baseline_loss': 12.331268045043945, 'loss': 0.99219519462585448, 'channeled_acc': 0.54259999999999997, 'channeled_loss': 0.99219519462585448, 'baseline_acc': 0.1883}\n",
      "NOISE: level 0.4400 error 0.4400\n",
      "Loading data/160919-run-plot.BM_46-7904213568_10s.0.440000.hdf5 to model_1\n",
      "input_1 skipping this is empty file layer\n",
      "hidden loading 784x500 500 500x300 300 hidden dense_1/kernel:0 is missing dense_1/bias:0 is missing dense_2/kernel:0 is missing dense_2/bias:0 is missing (bad #wgts) ABORT\n",
      "End classification {'baseline_loss': 12.069080349731445, 'loss': 1.0225821649551392, 'channeled_acc': 0.53580000000000005, 'channeled_loss': 1.0225821649551392, 'baseline_acc': 0.19320000000000001}\n",
      "NOISE: level 0.4600 error 0.4600\n",
      "Loading data/160919-run-plot.BM_46-7904213568_10s.0.460000.hdf5 to model_1\n",
      "input_1 skipping this is empty file layer\n",
      "hidden loading 784x500 500 500x300 300 hidden dense_1/kernel:0 is missing dense_1/bias:0 is missing dense_2/kernel:0 is missing dense_2/bias:0 is missing (bad #wgts) ABORT\n",
      "End classification {'baseline_loss': 12.501775045776368, 'loss': 1.0341131059646607, 'channeled_acc': 0.58919999999999995, 'channeled_loss': 1.0341131059646607, 'baseline_acc': 0.19700000000000001}\n",
      "NOISE: level 0.4700 error 0.4700\n",
      "Loading data/160919-run-plot.BM_46-7904213568_10s.0.470000.hdf5 to model_1\n",
      "input_1 skipping this is empty file layer\n",
      "hidden loading 784x500 500 500x300 300 hidden dense_1/kernel:0 is missing dense_1/bias:0 is missing dense_2/kernel:0 is missing dense_2/bias:0 is missing (bad #wgts) ABORT\n",
      "End classification {'baseline_loss': 12.460718850708007, 'loss': 1.047412922668457, 'channeled_acc': 0.59050000000000002, 'channeled_loss': 1.047412922668457, 'baseline_acc': 0.1961}\n",
      "NOISE: level 0.4750 error 0.4750\n",
      "Loading data/160919-run-plot.BM_46-7904213568_10s.0.475000.hdf5 to model_1\n",
      "input_1 skipping this is empty file layer\n",
      "hidden loading 784x500 500 500x300 300 hidden dense_1/kernel:0 is missing dense_1/bias:0 is missing dense_2/kernel:0 is missing dense_2/bias:0 is missing (bad #wgts) ABORT\n",
      "End classification {'baseline_loss': 12.175910626220704, 'loss': 1.0648763029098511, 'channeled_acc': 0.58979999999999999, 'channeled_loss': 1.0648763029098511, 'baseline_acc': 0.19689999999999999}\n",
      "NOISE: level 0.4800 error 0.4800\n",
      "Loading data/160919-run-plot.BM_46-7904213568_10s.0.480000.hdf5 to model_1\n",
      "input_1 skipping this is empty file layer\n",
      "hidden loading 784x500 500 500x300 300 hidden dense_1/kernel:0 is missing dense_1/bias:0 is missing dense_2/kernel:0 is missing dense_2/bias:0 is missing (bad #wgts) ABORT\n",
      "End classification {'baseline_loss': 12.485722811889648, 'loss': 1.0613928880691528, 'channeled_acc': 0.59050000000000002, 'channeled_loss': 1.0613928880691528, 'baseline_acc': 0.1968}\n",
      "NOISE: level 0.4850 error 0.4850\n",
      "Loading data/160919-run-plot.BM_46-7904213568_10s.0.485000.hdf5 to model_1\n",
      "input_1 skipping this is empty file layer\n",
      "hidden loading 784x500 500 500x300 300 hidden dense_1/kernel:0 is missing dense_1/bias:0 is missing dense_2/kernel:0 is missing dense_2/bias:0 is missing (bad #wgts) ABORT\n",
      "End classification {'baseline_loss': 12.443034471130371, 'loss': 0.99367585935592651, 'channeled_acc': 0.57150000000000001, 'channeled_loss': 0.99367585935592651, 'baseline_acc': 0.1956}\n",
      "NOISE: level 0.4900 error 0.4900\n",
      "Loading data/160919-run-plot.BM_46-7904213568_10s.0.490000.hdf5 to model_1\n",
      "input_1 skipping this is empty file layer\n",
      "hidden loading 784x500 500 500x300 300 hidden dense_1/kernel:0 is missing dense_1/bias:0 is missing dense_2/kernel:0 is missing dense_2/bias:0 is missing (bad #wgts) ABORT\n",
      "End classification {'baseline_loss': 12.467528878784179, 'loss': 1.0770502014160157, 'channeled_acc': 0.58979999999999999, 'channeled_loss': 1.0770502014160157, 'baseline_acc': 0.19600000000000001}\n",
      "NOISE: level 0.4950 error 0.4950\n",
      "Loading data/160919-run-plot.BM_46-7904213568_10s.0.495000.hdf5 to model_1\n",
      "input_1 skipping this is empty file layer\n",
      "hidden loading 784x500 500 500x300 300 hidden dense_1/kernel:0 is missing dense_1/bias:0 is missing dense_2/kernel:0 is missing dense_2/bias:0 is missing (bad #wgts) ABORT\n",
      "End classification {'baseline_loss': 12.516313090515137, 'loss': 1.015339421081543, 'channeled_acc': 0.57520000000000004, 'channeled_loss': 1.015339421081543, 'baseline_acc': 0.1966}\n",
      "NOISE: level 0.5000 error 0.5000\n",
      "Loading data/160919-run-plot.BM_46-7904213568_10s.0.500000.hdf5 to model_1\n",
      "input_1 skipping this is empty file layer\n",
      "hidden loading 784x500 500 500x300 300 hidden dense_1/kernel:0 is missing dense_1/bias:0 is missing dense_2/kernel:0 is missing dense_2/bias:0 is missing (bad #wgts) ABORT\n",
      "End classification {'baseline_loss': 10.998359754943849, 'loss': 0.96647218112945554, 'channeled_acc': 0.47899999999999998, 'channeled_loss': 0.96647218112945554, 'baseline_acc': 0.2949}\n"
     ]
    },
    {
     "name": "stderr",
     "output_type": "stream",
     "text": [
      "Using TensorFlow backend.\n",
      "jacob-reed.py:342: UserWarning: Update your `Dense` call to the Keras 2 API: `Dense(500, kernel_regularizer=None, input_shape=(784,))`\n",
      "  W_regularizer=regularizer))\n",
      "jacob-reed.py:342: UserWarning: Update your `Dense` call to the Keras 2 API: `Dense(300, kernel_regularizer=None, input_shape=[])`\n",
      "  W_regularizer=regularizer))\n",
      "jacob-reed.py:376: UserWarning: Update your `Dense` call to the Keras 2 API: `Dense(10, activation=\"softmax\", kernel_regularizer=None, name=\"baseline\")`\n",
      "  baseline_output = Dense(nb_classes, activation='softmax', name='baseline', W_regularizer=regularizer)(last_hidden)\n",
      "jacob-reed.py:416: UserWarning: Update your `Dense` call to the Keras 2 API: `Dense(10, weights=[array([[-..., activation=\"softmax\", use_bias=False, trainable=True, name=\"dense_class0\")`\n",
      "  for i in range(nb_classes)]\n",
      "jacob-reed.py:416: UserWarning: Update your `Dense` call to the Keras 2 API: `Dense(10, weights=[array([[-..., activation=\"softmax\", use_bias=False, trainable=True, name=\"dense_class1\")`\n",
      "  for i in range(nb_classes)]\n",
      "jacob-reed.py:416: UserWarning: Update your `Dense` call to the Keras 2 API: `Dense(10, weights=[array([[-..., activation=\"softmax\", use_bias=False, trainable=True, name=\"dense_class2\")`\n",
      "  for i in range(nb_classes)]\n",
      "jacob-reed.py:416: UserWarning: Update your `Dense` call to the Keras 2 API: `Dense(10, weights=[array([[-..., activation=\"softmax\", use_bias=False, trainable=True, name=\"dense_class3\")`\n",
      "  for i in range(nb_classes)]\n",
      "jacob-reed.py:416: UserWarning: Update your `Dense` call to the Keras 2 API: `Dense(10, weights=[array([[-..., activation=\"softmax\", use_bias=False, trainable=True, name=\"dense_class4\")`\n",
      "  for i in range(nb_classes)]\n",
      "jacob-reed.py:416: UserWarning: Update your `Dense` call to the Keras 2 API: `Dense(10, weights=[array([[-..., activation=\"softmax\", use_bias=False, trainable=True, name=\"dense_class5\")`\n",
      "  for i in range(nb_classes)]\n",
      "jacob-reed.py:416: UserWarning: Update your `Dense` call to the Keras 2 API: `Dense(10, weights=[array([[-..., activation=\"softmax\", use_bias=False, trainable=True, name=\"dense_class6\")`\n",
      "  for i in range(nb_classes)]\n",
      "jacob-reed.py:416: UserWarning: Update your `Dense` call to the Keras 2 API: `Dense(10, weights=[array([[-..., activation=\"softmax\", use_bias=False, trainable=True, name=\"dense_class7\")`\n",
      "  for i in range(nb_classes)]\n",
      "jacob-reed.py:416: UserWarning: Update your `Dense` call to the Keras 2 API: `Dense(10, weights=[array([[-..., activation=\"softmax\", use_bias=False, trainable=True, name=\"dense_class8\")`\n",
      "  for i in range(nb_classes)]\n",
      "jacob-reed.py:416: UserWarning: Update your `Dense` call to the Keras 2 API: `Dense(10, weights=[array([[-..., activation=\"softmax\", use_bias=False, trainable=True, name=\"dense_class9\")`\n",
      "  for i in range(nb_classes)]\n",
      "jacob-reed.py:426: UserWarning: The `merge` function is deprecated and will be removed after 08/2017. Use instead layers from `keras.layers.merge`, e.g. `add`, `concatenate`, etc.\n",
      "  channel_matrix = merge(channel_matrix, mode='concat')\n",
      "/home/brucelau/anaconda3/envs/py27/lib/python2.7/site-packages/keras/legacy/layers.py:460: UserWarning: The `Merge` layer is deprecated and will be removed after 08/2017. Use instead layers from `keras.layers.merge`, e.g. `add`, `concatenate`, etc.\n",
      "  name=name)\n",
      "jacob-reed.py:440: UserWarning: The `merge` function is deprecated and will be removed after 08/2017. Use instead layers from `keras.layers.merge`, e.g. `add`, `concatenate`, etc.\n",
      "  channeled_output = merge([channel_matrix, baseline_output], mode='dot', dot_axes=(1,1), name='channeled')\n",
      "jacob-reed.py:466: UserWarning: Update your `Model` call to the Keras 2 API: `Model(outputs=[<tf.Tenso..., inputs=[<tf.Tenso...)`\n",
      "  model = Model(input=train_inputs, output=[channeled_output, baseline_output])\n",
      "\r",
      "  0%|          | 0/14 [00:00<?, ?it/s]\r",
      "  7%|7         | 1/14 [01:31<19:48, 91.40s/it]\r",
      " 14%|#4        | 2/14 [02:58<17:53, 89.48s/it]\r",
      " 21%|##1       | 3/14 [04:11<15:22, 83.88s/it]\r",
      " 29%|##8       | 4/14 [05:41<14:13, 85.31s/it]\r",
      " 36%|###5      | 5/14 [07:09<12:53, 85.92s/it]\r",
      " 43%|####2     | 6/14 [08:38<11:31, 86.41s/it]\r",
      " 50%|#####     | 7/14 [10:06<10:06, 86.59s/it]\r",
      " 57%|#####7    | 8/14 [11:35<08:41, 86.91s/it]\r",
      " 64%|######4   | 9/14 [12:28<06:55, 83.16s/it]\r",
      " 71%|#######1  | 10/14 [13:56<05:34, 83.68s/it]\r",
      " 79%|#######8  | 11/14 [15:05<04:06, 82.32s/it]\r",
      " 86%|########5 | 12/14 [16:15<02:42, 81.32s/it]\r",
      " 93%|#########2| 13/14 [17:43<01:21, 81.83s/it]\r",
      "100%|##########| 14/14 [19:11<00:00, 82.24s/it]\n"
     ]
    }
   ],
   "source": [
    "%%bash -s \"{FN1}\"\n",
    "echo $1\n",
    "# ./run.bash --FN=data/$1\n",
    "./run.bash --FN=data/$1 --model=simple --beta=0\n",
    "# ./run.bash --FN=data/$1 --model=complex --beta=0 --pretrain=2\n",
    "# ./run.bash --FN=data/$1 --model=reed_hard --beta=0.8\n",
    "# ./run.bash --FN=data/$1 --model=reed_soft --beta=0.95"
   ]
  },
  {
   "cell_type": "code",
   "execution_count": 24,
   "metadata": {
    "collapsed": true
   },
   "outputs": [],
   "source": [
    "import fasteners\n",
    "import time\n",
    "import os\n",
    "from collections import defaultdict\n",
    "import numpy as np\n",
    "import matplotlib.pyplot as plt"
   ]
  },
  {
   "cell_type": "code",
   "execution_count": 25,
   "metadata": {
    "collapsed": true
   },
   "outputs": [],
   "source": [
    "import pickle\n",
    "import warnings ; warnings.filterwarnings(\"ignore\")\n",
    "import matplotlib.pyplot as plt\n",
    "%matplotlib inline\n",
    "plt.rcParams['axes.facecolor'] = 'white'"
   ]
  },
  {
   "cell_type": "code",
   "execution_count": 26,
   "metadata": {
    "collapsed": true
   },
   "outputs": [],
   "source": [
    "with fasteners.InterProcessLock('/tmp/%s.lock_file'%FN1):\n",
    "    with open('data/%s.results.pkl'%FN1,'rb') as fp:\n",
    "        results = pickle.load(fp)"
   ]
  },
  {
   "cell_type": "code",
   "execution_count": 27,
   "metadata": {
    "collapsed": true
   },
   "outputs": [],
   "source": [
    "experiments = set([k[0] for k in results.keys()]) # find all unique experiments from experiment,noise keys\n",
    "experiments = sorted(experiments)"
   ]
  },
  {
   "cell_type": "code",
   "execution_count": 28,
   "metadata": {},
   "outputs": [
    {
     "name": "stdout",
     "output_type": "stream",
     "text": [
      "['BM_46-7904213568_10s', 'SMp_46-7904213568_10s']\n"
     ]
    }
   ],
   "source": [
    "print experiments"
   ]
  },
  {
   "cell_type": "markdown",
   "metadata": {},
   "source": [
    "The different models for which we have results. Composed from the following:\n",
    "* B baseline, S simple, C complex, R reed soft, r reed hard\n",
    "* M for MLP, C for CNN\n",
    "* If the model is not baseline then beta is less than 1 and its value **after the decimal dot** appears (e.g. beta=0.85 will show as 85.) Note that if beta happens to be zero then nothing will appear\n",
    "* Pre-training using labels generated by: p=baseline, q=simple model. r=use simple weights as a start point for the bias of the channel matrix instead of rebuilding it from the labels predicted by the simple model\n",
    "* If model is complex then the value (usually 0) used to initialize channel matrix weights (unless it was 0.1)"
   ]
  },
  {
   "cell_type": "code",
   "execution_count": 29,
   "metadata": {},
   "outputs": [
    {
     "name": "stdout",
     "output_type": "stream",
     "text": [
      "Models: BM_46, SMp_46\n"
     ]
    }
   ],
   "source": [
    "print \"Models:\",', '.join(set(x.split('-')[0] for x in experiments))"
   ]
  },
  {
   "cell_type": "markdown",
   "metadata": {},
   "source": [
    "The noise used:"
   ]
  },
  {
   "cell_type": "code",
   "execution_count": 30,
   "metadata": {},
   "outputs": [
    {
     "name": "stdout",
     "output_type": "stream",
     "text": [
      "Noise: 7904213568\n"
     ]
    }
   ],
   "source": [
    "print \"Noise:\",', '.join(set(x.split('-')[1].split('_')[0] for x in experiments))"
   ]
  },
  {
   "cell_type": "code",
   "execution_count": 31,
   "metadata": {},
   "outputs": [
    {
     "name": "stdout",
     "output_type": "stream",
     "text": [
      "BM_46-7904213568_10s\n",
      "SMp_46-7904213568_10s\n",
      "['7904213568', '10s']\n"
     ]
    }
   ],
   "source": [
    "for x in experiments:\n",
    "    print x\n",
    "print x.split('-')[1].split('_')"
   ]
  },
  {
   "cell_type": "markdown",
   "metadata": {},
   "source": [
    "different seeds used"
   ]
  },
  {
   "cell_type": "markdown",
   "metadata": {},
   "source": [
    "size of training data used. Multiply by 10 to get percentage, s at the end indicate that the number of labels in training set is stratified"
   ]
  },
  {
   "cell_type": "code",
   "execution_count": 32,
   "metadata": {},
   "outputs": [
    {
     "name": "stdout",
     "output_type": "stream",
     "text": [
      "Training size: 10s\n"
     ]
    }
   ],
   "source": [
    "print \"Training size:\",', '.join(set(x.split('-')[1].split('_')[1] for x in experiments))"
   ]
  },
  {
   "cell_type": "markdown",
   "metadata": {},
   "source": [
    "Count how many experiments (by different seeds) we did for every model/train-size combinations"
   ]
  },
  {
   "cell_type": "code",
   "execution_count": 33,
   "metadata": {
    "collapsed": true
   },
   "outputs": [],
   "source": [
    "e2n = defaultdict(int)\n",
    "for e in reversed(experiments):\n",
    "    model_noise, seed, train_size = e.split('_')\n",
    "    e2n['_'.join([model_noise, train_size])] += 1\n",
    "# e2n"
   ]
  },
  {
   "cell_type": "code",
   "execution_count": 34,
   "metadata": {
    "collapsed": true
   },
   "outputs": [],
   "source": [
    "#http://people.duke.edu/~ccc14/pcfb/analysis.html\n",
    "def bootstrap(data, num_samples, statistic, alpha):\n",
    "    \"\"\"Returns bootstrap estimate of 100.0*(1-alpha) CI for statistic.\"\"\"\n",
    "    n = len(data)\n",
    "    idx = np.random.randint(0, n, (num_samples, n))\n",
    "    samples = data[idx]\n",
    "    stat = np.sort(statistic(samples, 1))\n",
    "    return (stat[int((alpha/2.0)*num_samples)],\n",
    "            stat[int((1-alpha/2.0)*num_samples)])"
   ]
  },
  {
   "cell_type": "markdown",
   "metadata": {},
   "source": [
    "convert model code to label we will use in the graph's legend"
   ]
  },
  {
   "cell_type": "code",
   "execution_count": 35,
   "metadata": {
    "collapsed": true
   },
   "outputs": [],
   "source": [
    "namelookup = {'CMp0':'Complex baseline-labels',\n",
    "              'CMq0':'Complex', # simple-labels',\n",
    "              'CCq0':'Complex CNN', # simple-labels',\n",
    "              'CMr0':'Complex simple-weights',\n",
    "              'BM':'Baseline','BC':'Baseline CNN',\n",
    "              'SMp':'Simple','SMP':'Simple soft confusion',\n",
    "              'SCp':'Simple CNN','SCP':'Simple CNN soft confusion',\n",
    "              'rM8p':'Reed hard','RM95p':'Reed soft',\n",
    "              'rC8p':'Reed hard','RC95p':'Reed soft',\n",
    "              'rMp':'Reed hard beta=0','RMp':'Reed soft beta=0'}"
   ]
  },
  {
   "cell_type": "markdown",
   "metadata": {},
   "source": [
    "the order in which the graphs will appear in the legend (and colors)"
   ]
  },
  {
   "cell_type": "code",
   "execution_count": 36,
   "metadata": {
    "collapsed": true
   },
   "outputs": [],
   "source": [
    "model_order = {'SMp':3, 'SCp':3, 'CMp0':0, 'CMq0':1, 'CCq0':1, 'CMr0':2,\n",
    "               'rM8p':4, 'rC8p':4, 'rMp':5,\n",
    "               'RM95p':6, 'RC95p':6, 'RMp':7,\n",
    "               'BM':8,'BC':9, 'SMP':10}"
   ]
  },
  {
   "cell_type": "code",
   "execution_count": 37,
   "metadata": {
    "collapsed": true
   },
   "outputs": [],
   "source": [
    "def plot(idx, models=None, perm=None, down_samples=None,xlim=(0.3,0.5),ylim=(0.4,1),title='', stat=np.mean):\n",
    "    \"\"\"\n",
    "    models - list of str\n",
    "        take only experiments that starts with one of the str in models.\n",
    "    down_samples - list of float or str\n",
    "        take only results with specificed down sample\n",
    "    title - if None then dont produce any title. If string then build a title which includes in it the given str\n",
    "    \"\"\"\n",
    "    if down_samples is not None:\n",
    "        if not isinstance(down_samples,list):\n",
    "            down_samples = [down_samples]\n",
    "        down_samples = [down_sample if isinstance(down_sample, basestring)\n",
    "                        else '%g'%(down_sample*10)\n",
    "                        for down_sample in down_samples]\n",
    "\n",
    "    plt.subplot(idx)\n",
    "    \n",
    "    e2xy = defaultdict(lambda : defaultdict(list))\n",
    "    for e in reversed(experiments):\n",
    "        if down_samples is not None:\n",
    "            for down_sample in down_samples:\n",
    "                if e.endswith('_'+down_sample) or e.endswith('_'+down_sample+'s'):\n",
    "                    break\n",
    "            else:\n",
    "                continue\n",
    "        if models:\n",
    "            for model in models:\n",
    "                if e.startswith(model):\n",
    "                    break\n",
    "            else:\n",
    "                continue\n",
    "        else:\n",
    "            model = e.split('-')[0]\n",
    "        down_sample = e.split('_')[-1]\n",
    "        if perm is not None:\n",
    "            pperm = e.split('-')[1].split('_')[0]\n",
    "            if pperm != perm:\n",
    "                continue\n",
    "        \n",
    "        X = [k[1] for k in results.keys() if k[0] == e]\n",
    "        Y = []\n",
    "        for n in X:\n",
    "            d = results[(e,n)][1]\n",
    "            for k in ['baseline_acc', 'acc']:\n",
    "                if k in d:\n",
    "                    Y.append(d[k])\n",
    "                    break\n",
    "            else:\n",
    "                raise Exception('validation accuracy not found')\n",
    "        X, Y = zip(*sorted(zip(X,Y),key=lambda x: x[0]))\n",
    "        \n",
    "        for x,y in zip(X,Y):\n",
    "            e2xy[(model,down_sample)][x] += [y]\n",
    "            \n",
    "        Y = np.array(Y)\n",
    "\n",
    "    keys = sorted(e2xy.keys(),key=lambda md: (model_order[md[0].split('-')[0]], (' ' if len(md[1])-int(md[1].endswith('s'))==1 else '') + md[1]))\n",
    "\n",
    "    # determine if all down_sample are stratified (True) or all not stratified (False) or mixed (Nones)\n",
    "    all_stratified = None\n",
    "    for model,down_sample in keys:\n",
    "        if all_stratified is None:\n",
    "            all_stratified = down_sample.endswith('s')\n",
    "        elif all_stratified != down_sample.endswith('s'):\n",
    "            all_stratified = None\n",
    "            break\n",
    "\n",
    "    for c, (model,down_sample) in enumerate(keys):\n",
    "        xy = e2xy[(model,down_sample)]\n",
    "        X = []\n",
    "        Y = []\n",
    "        Ys = []\n",
    "        for x in sorted(xy.keys()):\n",
    "            X.append(x)\n",
    "            Y.append(stat(xy[x]))\n",
    "            Ys.append(xy[x])\n",
    "        error_bars = []\n",
    "        for y,ys in zip(Y,Ys):\n",
    "            ym, yp = bootstrap(np.array(ys), 10000, stat, 0.05)\n",
    "            error_bars.append((y-ym,yp-y))\n",
    "        X = np.array(X)\n",
    "        \n",
    "        colors = ['b','g','r','c','m','k']\n",
    "        linestyles=['solid', 'dashed','dashdot','dotted']\n",
    "        color = colors[c % len(colors)]\n",
    "        linestyle = linestyles[(c//len(colors))%len(linestyles)]\n",
    "        plt.errorbar(X + 0.001*np.random.random(len(X)),\n",
    "                     Y, yerr=np.array(error_bars).T, ecolor=color, elinewidth=2, alpha=0.2,\n",
    "                    fmt='none')\n",
    "        # label of each graph is the model name in English and\n",
    "        # if we have more than one downsample option then also add it to the label\n",
    "        if model in namelookup:\n",
    "            label = namelookup[model]\n",
    "        else:\n",
    "            label = namelookup[model.split('-')[0]] + ' ' + model.split('-')[1]\n",
    "        if down_samples is None or len(down_samples) > 1:\n",
    "            if all_stratified is None:\n",
    "                label += ' '+(down_sample[:-1]+'0% stratified' if down_sample.endswith('s') else down_sample+'0%')\n",
    "            else:\n",
    "                label += ' '+(down_sample[:-1] if down_sample.endswith('s') else down_sample)+'0%'\n",
    "        plt.plot(X,Y, color=color, linestyle=linestyle, label=label)\n",
    "    plt.legend(loc='lower left')\n",
    "    plt.ylabel('test accuracy', fontsize=18)\n",
    "    plt.xlabel('noise fraction', fontsize=18);\n",
    "    if title is not None:\n",
    "        title = 'MNIST '+title\n",
    "        if all_stratified:\n",
    "            title += ' stratified'\n",
    "        plt.title(title)\n",
    "    # The range of X and Y is exactly like in other paper\n",
    "    if xlim is not None:\n",
    "        plt.xlim(*xlim)\n",
    "    if ylim is not None:\n",
    "        plt.ylim(*ylim)"
   ]
  },
  {
   "cell_type": "code",
   "execution_count": 38,
   "metadata": {},
   "outputs": [
    {
     "data": {
      "image/png": "[encoded data removed]",
      "text/plain": [
       "<matplotlib.figure.Figure at 0x7f428f88a4d0>"
      ]
     },
     "metadata": {},
     "output_type": "display_data"
    }
   ],
   "source": [
    "plt.figure(figsize=(12,10))\n",
    "plot(111, down_samples=1.0, models=['BM','SMp','CMq0','rM8p','RM95p'], title=None, perm='7904213568') "
   ]
  },
  {
   "cell_type": "code",
   "execution_count": 39,
   "metadata": {},
   "outputs": [
    {
     "data": {
      "image/png": "[encoded data removed]",
      "text/plain": [
       "<matplotlib.figure.Figure at 0x7f428f91e510>"
      ]
     },
     "metadata": {},
     "output_type": "display_data"
    }
   ],
   "source": [
    "plt.figure(figsize=(12,10))\n",
    "plot(111, down_samples=.5, models=['BM','SMp','CMq0','rM8p','RM95p'], title=None, perm='7904213568') "
   ]
  },
  {
   "cell_type": "code",
   "execution_count": 40,
   "metadata": {},
   "outputs": [
    {
     "data": {
      "image/png": "[encoded data removed]",
      "text/plain": [
       "<matplotlib.figure.Figure at 0x7f428f747210>"
      ]
     },
     "metadata": {},
     "output_type": "display_data"
    }
   ],
   "source": [
    "plt.figure(figsize=(12,10))\n",
    "plot(111, down_samples=.2, models=['BM','SMp','CMq0','rM8p','RM95p'], title=None, perm='7904213568') "
   ]
  }
 ],
 "metadata": {
  "anaconda-cloud": {},
  "kernelspec": {
   "display_name": "Python 2",
   "language": "python",
   "name": "python2"
  },
  "language_info": {
   "codemirror_mode": {
    "name": "ipython",
    "version": 2
   },
   "file_extension": ".py",
   "mimetype": "text/x-python",
   "name": "python",
   "nbconvert_exporter": "python",
   "pygments_lexer": "ipython2",
   "version": "2.7.13"
  }
 },
 "nbformat": 4,
 "nbformat_minor": 1
}
