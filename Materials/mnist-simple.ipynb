{
 "cells": [
  {
   "cell_type": "code",
   "execution_count": 1,
   "metadata": {
    "collapsed": true
   },
   "outputs": [],
   "source": [
    "FN = 'mnist-simple'"
   ]
  },
  {
   "cell_type": "markdown",
   "metadata": {},
   "source": [
    "This notebook works with Keras version 2"
   ]
  },
  {
   "cell_type": "markdown",
   "metadata": {},
   "source": [
    "In this notebook we:\n",
    "* train a on MNIST in which the training labels are scrambled by a fixed permutation 46% of the time\n",
    "* The baseline 3 layer MLP model gives an accuracy of 74% on MNIST test set which was not scrambled\n",
    "* The confusion matrix of the noisy training data is computed\n",
    "* We then add a customized Keras layer ([Channel](./channel.py)) to model the noise. This layer is initialized with the log of the confusion matrix (`channel_weights`):\n",
    "```python\n",
    "channeled_output = Channel(name='channel',weights=[channel_weights])(baseline_output)\n",
    "```\n",
    "* We continue training on the new output (`channeled_output`)\n",
    "* The baseline output (`baseline_output`) has now an accuracy of 98%.\n",
    "\n",
    "For more information see the description of the [simple noise adaptation layer in the paper](https://openreview.net/forum?id=H12GRgcxg)"
   ]
  },
  {
   "cell_type": "code",
   "execution_count": 2,
   "metadata": {
    "collapsed": true
   },
   "outputs": [],
   "source": [
    "from __future__ import print_function\n",
    "import numpy as np\n",
    "import random\n",
    "seed = 42\n",
    "np.random.seed(seed)  # for reproducibility\n",
    "random.seed(seed)\n",
    "verbose = True"
   ]
  },
  {
   "cell_type": "code",
   "execution_count": 3,
   "metadata": {
    "collapsed": true
   },
   "outputs": [],
   "source": [
    "# in case you dont have a GPU\n",
    "import os\n",
    "os.environ['THEANO_FLAGS'] = 'device=cpu,floatX=float32'  # Use CPU on Theano\n",
    "os.environ['CUDA_VISIBLE_DEVICES'] = ''  # Disable GPU usage on tensorflow"
   ]
  },
  {
   "cell_type": "markdown",
   "metadata": {},
   "source": [
    "# Data"
   ]
  },
  {
   "cell_type": "code",
   "execution_count": 4,
   "metadata": {
    "collapsed": true
   },
   "outputs": [],
   "source": [
    "nb_classes = 10 # number of categories we classify. MNIST is 10 digits\n",
    "# input image dimensions. In CNN we think we have a \"color\" image with 1 channel of color.\n",
    "# in MLP with flatten the pixels to img_rows*img_cols\n",
    "img_color, img_rows, img_cols = 1, 28, 28\n",
    "img_size = img_color*img_rows*img_cols"
   ]
  },
  {
   "cell_type": "code",
   "execution_count": 5,
   "metadata": {},
   "outputs": [
    {
     "name": "stderr",
     "output_type": "stream",
     "text": [
      "Using TensorFlow backend.\n"
     ]
    },
    {
     "name": "stdout",
     "output_type": "stream",
     "text": [
      "MNIST training data set label distribution [5923 6742 5958 6131 5842 5421 5918 6265 5851 5949]\n",
      "test distribution [ 980 1135 1032 1010  982  892  958 1028  974 1009]\n"
     ]
    }
   ],
   "source": [
    "from keras.datasets import mnist\n",
    "# keras has a built in tool that download the MNIST data set for you to `~/.keras/datasets/`\n",
    "# the data, shuffled and split between train and test sets\n",
    "(X_train, y_train), (X_test, y_test) = mnist.load_data()\n",
    "print('MNIST training data set label distribution', np.bincount(y_train))\n",
    "print('test distribution', np.bincount(y_test))"
   ]
  },
  {
   "cell_type": "code",
   "execution_count": 6,
   "metadata": {},
   "outputs": [
    {
     "name": "stdout",
     "output_type": "stream",
     "text": [
      "X_train shape: (60000, 784)\n",
      "60000 train samples\n",
      "10000 test samples\n"
     ]
    }
   ],
   "source": [
    "X_train = X_train.reshape(X_train.shape[0], img_size)\n",
    "X_test = X_test.reshape(X_test.shape[0], img_size)\n",
    "    \n",
    "X_train = X_train.astype('float32')\n",
    "X_test = X_test.astype('float32')\n",
    "X_train /= 255.\n",
    "X_test /= 255.\n",
    "print('X_train shape:', X_train.shape)\n",
    "print(X_train.shape[0], 'train samples')\n",
    "print(X_test.shape[0], 'test samples')"
   ]
  },
  {
   "cell_type": "markdown",
   "metadata": {},
   "source": [
    "## noisy labels"
   ]
  },
  {
   "cell_type": "code",
   "execution_count": 7,
   "metadata": {
    "collapsed": true
   },
   "outputs": [],
   "source": [
    "NOISE_LEVEL=0.46  # what part of training labels are permuted\n",
    "perm = np.array([7, 9, 0, 4, 2, 1, 3, 5, 6, 8])  # noise permutation (from Reed)"
   ]
  },
  {
   "cell_type": "code",
   "execution_count": 8,
   "metadata": {
    "collapsed": true
   },
   "outputs": [],
   "source": [
    "noise = perm[y_train]"
   ]
  },
  {
   "cell_type": "code",
   "execution_count": 9,
   "metadata": {
    "collapsed": true
   },
   "outputs": [],
   "source": [
    "# replace some of the training labels with permuted (noise) labels.\n",
    "# make sure each categories receive an equal amount of noise\n",
    "from sklearn.model_selection import StratifiedShuffleSplit\n",
    "_, noise_idx = next(iter(StratifiedShuffleSplit(n_splits=1,\n",
    "                                                test_size=NOISE_LEVEL,\n",
    "                                                random_state=seed).split(X_train,y_train)))\n",
    "y_train_noise = y_train.copy()\n",
    "y_train_noise[noise_idx] = noise[noise_idx]"
   ]
  },
  {
   "cell_type": "markdown",
   "metadata": {},
   "source": [
    "actual noise level"
   ]
  },
  {
   "cell_type": "code",
   "execution_count": 10,
   "metadata": {},
   "outputs": [
    {
     "data": {
      "text/plain": [
       "0.45999999999999996"
      ]
     },
     "execution_count": 10,
     "metadata": {},
     "output_type": "execute_result"
    }
   ],
   "source": [
    "1. - np.mean(y_train_noise == y_train)"
   ]
  },
  {
   "cell_type": "markdown",
   "metadata": {},
   "source": [
    "split training data to training and validation"
   ]
  },
  {
   "cell_type": "code",
   "execution_count": 11,
   "metadata": {
    "collapsed": true
   },
   "outputs": [],
   "source": [
    "# break the training set to 10% validation which we will use for early stopping.\n",
    "train_idx, val_idx = next(iter(\n",
    "        StratifiedShuffleSplit(n_splits=1, test_size=0.1,\n",
    "                               random_state=seed).split(X_train, y_train_noise)))\n",
    "X_train_train = X_train[train_idx]\n",
    "y_train_train = y_train_noise[train_idx]\n",
    "X_train_val = X_train[val_idx]\n",
    "y_train_val = y_train_noise[val_idx]"
   ]
  },
  {
   "cell_type": "markdown",
   "metadata": {},
   "source": [
    "# Model"
   ]
  },
  {
   "cell_type": "markdown",
   "metadata": {},
   "source": [
    "## baseline model\n",
    "We use the `Sequential` model from keras\n",
    "[mlp example](https://github.com/fchollet/keras/blob/master/examples/mnist_mlp.py)\n",
    "as a single layer which computes the last hidden layer which we then use to\n",
    "compute the baseline and as an input to the channel matrix"
   ]
  },
  {
   "cell_type": "code",
   "execution_count": 12,
   "metadata": {
    "collapsed": true
   },
   "outputs": [],
   "source": [
    "nhiddens = [500, 300]\n",
    "DROPOUT=0.5\n",
    "opt='adam'\n",
    "batch_size = 256\n",
    "patience = 4  # Early stopping patience\n",
    "epochs = 40  # number of epochs to train on"
   ]
  },
  {
   "cell_type": "code",
   "execution_count": 13,
   "metadata": {
    "collapsed": true
   },
   "outputs": [],
   "source": [
    "from keras.models import Sequential\n",
    "hidden_layers = Sequential(name='hidden')"
   ]
  },
  {
   "cell_type": "code",
   "execution_count": 14,
   "metadata": {
    "collapsed": true
   },
   "outputs": [],
   "source": [
    "from keras.layers import Dense, Dropout, Activation\n",
    "for i, nhidden in enumerate(nhiddens):\n",
    "    hidden_layers.add(Dense(nhidden,\n",
    "                            input_shape=(img_size,) if i == 0 else []))\n",
    "    hidden_layers.add(Activation('relu'))\n",
    "    hidden_layers.add(Dropout(DROPOUT))"
   ]
  },
  {
   "cell_type": "code",
   "execution_count": 15,
   "metadata": {
    "collapsed": true
   },
   "outputs": [],
   "source": [
    "from keras.layers import Input\n",
    "train_inputs = Input(shape=(img_size,))"
   ]
  },
  {
   "cell_type": "code",
   "execution_count": 16,
   "metadata": {
    "collapsed": true
   },
   "outputs": [],
   "source": [
    "last_hidden = hidden_layers(train_inputs)\n",
    "baseline_output = Dense(nb_classes, activation='softmax', name='baseline')(last_hidden)"
   ]
  },
  {
   "cell_type": "code",
   "execution_count": 17,
   "metadata": {},
   "outputs": [
    {
     "name": "stderr",
     "output_type": "stream",
     "text": [
      "/home/brucelau/anaconda3/envs/tf-gpu/lib/python3.6/site-packages/ipykernel_launcher.py:2: UserWarning: Update your `Model` call to the Keras 2 API: `Model(inputs=Tensor(\"in..., outputs=Tensor(\"ba...)`\n",
      "  \n"
     ]
    }
   ],
   "source": [
    "from keras.models import Model\n",
    "model = Model(input=train_inputs, output=baseline_output)\n",
    "model.compile(loss='sparse_categorical_crossentropy',\n",
    "              optimizer=opt,\n",
    "              metrics=['accuracy'])"
   ]
  },
  {
   "cell_type": "markdown",
   "metadata": {},
   "source": [
    "baseline model performance evaluation before training"
   ]
  },
  {
   "cell_type": "code",
   "execution_count": 18,
   "metadata": {
    "collapsed": true
   },
   "outputs": [],
   "source": [
    "def eval(model,y_test=y_test):\n",
    "    return dict(zip(model.metrics_names,model.evaluate(X_test,y_test, verbose=False)))"
   ]
  },
  {
   "cell_type": "code",
   "execution_count": 19,
   "metadata": {},
   "outputs": [
    {
     "data": {
      "text/plain": [
       "{'acc': 0.1065, 'loss': 2.3589877407073976}"
      ]
     },
     "execution_count": 19,
     "metadata": {},
     "output_type": "execute_result"
    }
   ],
   "source": [
    "eval(model)"
   ]
  },
  {
   "cell_type": "markdown",
   "metadata": {},
   "source": [
    "### baseline training"
   ]
  },
  {
   "cell_type": "code",
   "execution_count": 20,
   "metadata": {
    "scrolled": true
   },
   "outputs": [
    {
     "name": "stderr",
     "output_type": "stream",
     "text": [
      "/home/brucelau/anaconda3/envs/tf-gpu/lib/python3.6/site-packages/ipykernel_launcher.py:11: UserWarning: The `nb_epoch` argument in `fit` has been renamed `epochs`.\n",
      "  # This is added back by InteractiveShellApp.init_path()\n"
     ]
    },
    {
     "name": "stdout",
     "output_type": "stream",
     "text": [
      "Train on 54000 samples, validate on 6000 samples\n",
      "Epoch 1/40\n",
      "54000/54000 [==============================] - 2s 41us/step - loss: 1.2585 - acc: 0.4248 - val_loss: 0.9060 - val_acc: 0.4932\n",
      "Epoch 2/40\n",
      "54000/54000 [==============================] - 2s 40us/step - loss: 0.9398 - acc: 0.4840 - val_loss: 0.8394 - val_acc: 0.4875\n",
      "Epoch 3/40\n",
      "54000/54000 [==============================] - 2s 38us/step - loss: 0.8770 - acc: 0.4959 - val_loss: 0.8165 - val_acc: 0.4943\n",
      "Epoch 4/40\n",
      "54000/54000 [==============================] - 2s 37us/step - loss: 0.8452 - acc: 0.4977 - val_loss: 0.7939 - val_acc: 0.4993\n",
      "Epoch 5/40\n",
      "54000/54000 [==============================] - 2s 38us/step - loss: 0.8207 - acc: 0.5090 - val_loss: 0.7882 - val_acc: 0.5072\n",
      "Epoch 6/40\n",
      "54000/54000 [==============================] - 2s 38us/step - loss: 0.8071 - acc: 0.5087 - val_loss: 0.7831 - val_acc: 0.5163\n",
      "Epoch 7/40\n",
      "54000/54000 [==============================] - 2s 38us/step - loss: 0.7961 - acc: 0.5148 - val_loss: 0.7730 - val_acc: 0.5203\n",
      "Epoch 8/40\n",
      "54000/54000 [==============================] - 2s 38us/step - loss: 0.7853 - acc: 0.5176 - val_loss: 0.7673 - val_acc: 0.5160\n",
      "Epoch 9/40\n",
      "54000/54000 [==============================] - 2s 40us/step - loss: 0.7739 - acc: 0.5208 - val_loss: 0.7674 - val_acc: 0.5078\n",
      "Epoch 10/40\n",
      "54000/54000 [==============================] - 2s 38us/step - loss: 0.7714 - acc: 0.5204 - val_loss: 0.7613 - val_acc: 0.5043\n",
      "Epoch 11/40\n",
      "54000/54000 [==============================] - 2s 38us/step - loss: 0.7628 - acc: 0.5252 - val_loss: 0.7639 - val_acc: 0.5048\n",
      "Epoch 12/40\n",
      "54000/54000 [==============================] - 2s 38us/step - loss: 0.7592 - acc: 0.5254 - val_loss: 0.7660 - val_acc: 0.5038\n",
      "Epoch 13/40\n",
      "54000/54000 [==============================] - 2s 37us/step - loss: 0.7551 - acc: 0.5268 - val_loss: 0.7651 - val_acc: 0.5208\n",
      "Epoch 14/40\n",
      "54000/54000 [==============================] - 2s 38us/step - loss: 0.7514 - acc: 0.5274 - val_loss: 0.7656 - val_acc: 0.5007\n",
      "Epoch 00014: early stopping\n"
     ]
    }
   ],
   "source": [
    "from keras.callbacks import EarlyStopping\n",
    "train_res = model.fit(X_train_train,\n",
    "                      y_train_train,\n",
    "                      batch_size=batch_size,\n",
    "                      nb_epoch=epochs,\n",
    "                      verbose=verbose,\n",
    "                      validation_data=(X_train_val,\n",
    "                                       y_train_val),\n",
    "                      callbacks=\n",
    "                      [EarlyStopping(patience=patience,mode='min',\n",
    "                                     verbose=verbose)]\n",
    "                      )"
   ]
  },
  {
   "cell_type": "markdown",
   "metadata": {},
   "source": [
    "### baseline performance"
   ]
  },
  {
   "cell_type": "code",
   "execution_count": 21,
   "metadata": {
    "collapsed": true
   },
   "outputs": [],
   "source": [
    "# eval(model)"
   ]
  },
  {
   "cell_type": "code",
   "execution_count": 22,
   "metadata": {
    "collapsed": true
   },
   "outputs": [],
   "source": [
    "# build confusion matrix (prediction,noisy_label)\n",
    "ybaseline_predict = model.predict(X_train,batch_size=batch_size)"
   ]
  },
  {
   "cell_type": "code",
   "execution_count": 23,
   "metadata": {},
   "outputs": [
    {
     "data": {
      "text/plain": [
       "(60000,)"
      ]
     },
     "execution_count": 23,
     "metadata": {},
     "output_type": "execute_result"
    }
   ],
   "source": [
    "ybaseline_predict = np.argmax(ybaseline_predict, axis=-1)\n",
    "ybaseline_predict.shape"
   ]
  },
  {
   "cell_type": "code",
   "execution_count": 24,
   "metadata": {
    "collapsed": true
   },
   "outputs": [],
   "source": [
    "baseline_confusion = np.zeros((nb_classes, nb_classes))\n",
    "for n, p in zip(y_train_noise, ybaseline_predict):\n",
    "    baseline_confusion[p, n] += 1."
   ]
  },
  {
   "cell_type": "code",
   "execution_count": 25,
   "metadata": {},
   "outputs": [
    {
     "data": {
      "image/png": "[encoded data removed]",
      "text/plain": [
       "<matplotlib.figure.Figure at 0x7f79b901ff60>"
      ]
     },
     "metadata": {},
     "output_type": "display_data"
    }
   ],
   "source": [
    "import matplotlib.pyplot as plt\n",
    "%matplotlib inline\n",
    "# perm_bias_weights.astype(int)\n",
    "plt.pcolor(baseline_confusion)\n",
    "plt.ylabel('true labels')\n",
    "plt.xlabel('baseline labels')\n",
    "plt.title('baseline confusion matrix');"
   ]
  },
  {
   "cell_type": "markdown",
   "metadata": {},
   "source": [
    "## Simple channel model"
   ]
  },
  {
   "cell_type": "code",
   "execution_count": 26,
   "metadata": {
    "collapsed": true
   },
   "outputs": [],
   "source": [
    "# ignore baseline loss in training\n",
    "BETA = 0."
   ]
  },
  {
   "cell_type": "code",
   "execution_count": 27,
   "metadata": {
    "collapsed": true
   },
   "outputs": [],
   "source": [
    "# channel_weights = baseline_confusion.copy()\n",
    "# channel_weights /= channel_weights.sum(axis=1, keepdims=True)\n",
    "# # perm_bias_weights[prediction,noisy_label] = log(P(noisy_label|prediction))\n",
    "# channel_weights = np.log(channel_weights + 1e-8)"
   ]
  },
  {
   "cell_type": "code",
   "execution_count": 28,
   "metadata": {
    "collapsed": true
   },
   "outputs": [],
   "source": [
    "# If you dont have a pre-trained baseline model then use this\n",
    "channel_weights = (\n",
    "    np.array([[np.log(1. - NOISE_LEVEL)\n",
    "                        if i == j else\n",
    "                        np.log(0.46 / (nb_classes - 1.))\n",
    "                        for j in range(nb_classes)] for i in\n",
    "              range(nb_classes)])\n",
    "    + 0.01 * np.random.random((nb_classes, nb_classes)))"
   ]
  },
  {
   "cell_type": "code",
   "execution_count": 29,
   "metadata": {},
   "outputs": [],
   "source": [
    "from channel import Channel\n",
    "channeled_output = Channel(name='channel',weights=[channel_weights])(baseline_output)"
   ]
  },
  {
   "cell_type": "code",
   "execution_count": 30,
   "metadata": {
    "collapsed": true
   },
   "outputs": [],
   "source": [
    "simple_model = Model(inputs=train_inputs, outputs=[channeled_output, baseline_output])\n",
    "simple_model.compile(loss='sparse_categorical_crossentropy',loss_weights=[1.-BETA, BETA],\n",
    "              optimizer=opt,\n",
    "              metrics=['accuracy'])"
   ]
  },
  {
   "cell_type": "code",
   "execution_count": 31,
   "metadata": {},
   "outputs": [
    {
     "name": "stdout",
     "output_type": "stream",
     "text": [
      "Train on 54000 samples, validate on 6000 samples\n",
      "Epoch 1/40\n",
      "54000/54000 [==============================] - 2s 42us/step - loss: 1.1868 - channel_loss: 1.1868 - baseline_loss: 0.7578 - channel_acc: 0.5295 - baseline_acc: 0.5296 - val_loss: 1.1296 - val_channel_loss: 1.1296 - val_baseline_loss: 0.7656 - val_channel_acc: 0.5092 - val_baseline_acc: 0.5125\n",
      "Epoch 2/40\n",
      "54000/54000 [==============================] - 2s 39us/step - loss: 1.0745 - channel_loss: 1.0745 - baseline_loss: 0.7520 - channel_acc: 0.5320 - baseline_acc: 0.5325 - val_loss: 1.0383 - val_channel_loss: 1.0383 - val_baseline_loss: 0.7685 - val_channel_acc: 0.5083 - val_baseline_acc: 0.5090\n",
      "Epoch 3/40\n",
      "54000/54000 [==============================] - 2s 39us/step - loss: 0.9956 - channel_loss: 0.9956 - baseline_loss: 0.7504 - channel_acc: 0.5305 - baseline_acc: 0.5311 - val_loss: 0.9722 - val_channel_loss: 0.9722 - val_baseline_loss: 0.7663 - val_channel_acc: 0.5038 - val_baseline_acc: 0.5062\n",
      "Epoch 4/40\n",
      "54000/54000 [==============================] - 2s 38us/step - loss: 0.9364 - channel_loss: 0.9364 - baseline_loss: 0.7478 - channel_acc: 0.5371 - baseline_acc: 0.5376 - val_loss: 0.9265 - val_channel_loss: 0.9265 - val_baseline_loss: 0.7688 - val_channel_acc: 0.5027 - val_baseline_acc: 0.5030\n",
      "Epoch 5/40\n",
      "54000/54000 [==============================] - 2s 40us/step - loss: 0.8943 - channel_loss: 0.8943 - baseline_loss: 0.7468 - channel_acc: 0.5376 - baseline_acc: 0.5382 - val_loss: 0.8938 - val_channel_loss: 0.8938 - val_baseline_loss: 0.7729 - val_channel_acc: 0.5057 - val_baseline_acc: 0.5058\n",
      "Epoch 6/40\n",
      "54000/54000 [==============================] - 2s 39us/step - loss: 0.8637 - channel_loss: 0.8637 - baseline_loss: 0.7447 - channel_acc: 0.5345 - baseline_acc: 0.5348 - val_loss: 0.8639 - val_channel_loss: 0.8639 - val_baseline_loss: 0.7650 - val_channel_acc: 0.5055 - val_baseline_acc: 0.5065\n",
      "Epoch 7/40\n",
      "54000/54000 [==============================] - 2s 39us/step - loss: 0.8391 - channel_loss: 0.8391 - baseline_loss: 0.7431 - channel_acc: 0.5401 - baseline_acc: 0.5398 - val_loss: 0.8384 - val_channel_loss: 0.8384 - val_baseline_loss: 0.7600 - val_channel_acc: 0.5247 - val_baseline_acc: 0.5242\n",
      "Epoch 8/40\n",
      "54000/54000 [==============================] - 2s 40us/step - loss: 0.8134 - channel_loss: 0.8134 - baseline_loss: 0.7331 - channel_acc: 0.5434 - baseline_acc: 0.5435 - val_loss: 0.8284 - val_channel_loss: 0.8284 - val_baseline_loss: 0.7650 - val_channel_acc: 0.5167 - val_baseline_acc: 0.5180\n",
      "Epoch 9/40\n",
      "54000/54000 [==============================] - 2s 39us/step - loss: 0.8008 - channel_loss: 0.8008 - baseline_loss: 0.7350 - channel_acc: 0.5450 - baseline_acc: 0.5454 - val_loss: 0.8177 - val_channel_loss: 0.8177 - val_baseline_loss: 0.7684 - val_channel_acc: 0.5110 - val_baseline_acc: 0.5102\n",
      "Epoch 10/40\n",
      "54000/54000 [==============================] - 2s 39us/step - loss: 0.7883 - channel_loss: 0.7883 - baseline_loss: 0.7329 - channel_acc: 0.5414 - baseline_acc: 0.5415 - val_loss: 0.8061 - val_channel_loss: 0.8061 - val_baseline_loss: 0.7633 - val_channel_acc: 0.5163 - val_baseline_acc: 0.5157\n",
      "Epoch 11/40\n",
      "54000/54000 [==============================] - 2s 41us/step - loss: 0.7791 - channel_loss: 0.7791 - baseline_loss: 0.7325 - channel_acc: 0.5473 - baseline_acc: 0.5472 - val_loss: 0.8022 - val_channel_loss: 0.8022 - val_baseline_loss: 0.7673 - val_channel_acc: 0.5120 - val_baseline_acc: 0.5128\n",
      "Epoch 12/40\n",
      "54000/54000 [==============================] - 2s 39us/step - loss: 0.7670 - channel_loss: 0.7670 - baseline_loss: 0.7269 - channel_acc: 0.5482 - baseline_acc: 0.5481 - val_loss: 0.7941 - val_channel_loss: 0.7941 - val_baseline_loss: 0.7668 - val_channel_acc: 0.5062 - val_baseline_acc: 0.5060\n",
      "Epoch 13/40\n",
      "54000/54000 [==============================] - 2s 39us/step - loss: 0.7577 - channel_loss: 0.7577 - baseline_loss: 0.7230 - channel_acc: 0.5513 - baseline_acc: 0.5513 - val_loss: 0.7904 - val_channel_loss: 0.7904 - val_baseline_loss: 0.7657 - val_channel_acc: 0.5107 - val_baseline_acc: 0.5108\n",
      "Epoch 14/40\n",
      "54000/54000 [==============================] - 2s 40us/step - loss: 0.7515 - channel_loss: 0.7515 - baseline_loss: 0.7218 - channel_acc: 0.5513 - baseline_acc: 0.5514 - val_loss: 0.7892 - val_channel_loss: 0.7892 - val_baseline_loss: 0.7682 - val_channel_acc: 0.5128 - val_baseline_acc: 0.5130\n",
      "Epoch 15/40\n",
      "54000/54000 [==============================] - 2s 39us/step - loss: 0.7482 - channel_loss: 0.7482 - baseline_loss: 0.7222 - channel_acc: 0.5514 - baseline_acc: 0.5513 - val_loss: 0.7831 - val_channel_loss: 0.7831 - val_baseline_loss: 0.7647 - val_channel_acc: 0.5097 - val_baseline_acc: 0.5095\n",
      "Epoch 16/40\n",
      "54000/54000 [==============================] - 2s 40us/step - loss: 0.7436 - channel_loss: 0.7436 - baseline_loss: 0.7212 - channel_acc: 0.5485 - baseline_acc: 0.5486 - val_loss: 0.7776 - val_channel_loss: 0.7776 - val_baseline_loss: 0.7627 - val_channel_acc: 0.5108 - val_baseline_acc: 0.5115\n",
      "Epoch 17/40\n",
      "54000/54000 [==============================] - 2s 42us/step - loss: 0.7392 - channel_loss: 0.7392 - baseline_loss: 0.7197 - channel_acc: 0.5541 - baseline_acc: 0.5539 - val_loss: 0.7829 - val_channel_loss: 0.7829 - val_baseline_loss: 0.7730 - val_channel_acc: 0.5072 - val_baseline_acc: 0.5072\n",
      "Epoch 18/40\n",
      "54000/54000 [==============================] - 2s 39us/step - loss: 0.7321 - channel_loss: 0.7321 - baseline_loss: 0.7151 - channel_acc: 0.5579 - baseline_acc: 0.5578 - val_loss: 0.7733 - val_channel_loss: 0.7733 - val_baseline_loss: 0.7647 - val_channel_acc: 0.5193 - val_baseline_acc: 0.5185\n",
      "Epoch 19/40\n",
      "54000/54000 [==============================] - 2s 39us/step - loss: 0.7286 - channel_loss: 0.7286 - baseline_loss: 0.7139 - channel_acc: 0.5606 - baseline_acc: 0.5609 - val_loss: 0.7750 - val_channel_loss: 0.7750 - val_baseline_loss: 0.7674 - val_channel_acc: 0.5040 - val_baseline_acc: 0.5043\n",
      "Epoch 20/40\n",
      "54000/54000 [==============================] - 2s 39us/step - loss: 0.7264 - channel_loss: 0.7264 - baseline_loss: 0.7132 - channel_acc: 0.5567 - baseline_acc: 0.5566 - val_loss: 0.7748 - val_channel_loss: 0.7748 - val_baseline_loss: 0.7694 - val_channel_acc: 0.5090 - val_baseline_acc: 0.5092\n",
      "Epoch 21/40\n",
      "54000/54000 [==============================] - 2s 39us/step - loss: 0.7232 - channel_loss: 0.7232 - baseline_loss: 0.7109 - channel_acc: 0.5573 - baseline_acc: 0.5572 - val_loss: 0.7729 - val_channel_loss: 0.7729 - val_baseline_loss: 0.7683 - val_channel_acc: 0.5048 - val_baseline_acc: 0.5055\n",
      "Epoch 22/40\n",
      "54000/54000 [==============================] - 2s 39us/step - loss: 0.7191 - channel_loss: 0.7191 - baseline_loss: 0.7087 - channel_acc: 0.5610 - baseline_acc: 0.5609 - val_loss: 0.7767 - val_channel_loss: 0.7767 - val_baseline_loss: 0.7716 - val_channel_acc: 0.4955 - val_baseline_acc: 0.4958\n",
      "Epoch 23/40\n",
      "54000/54000 [==============================] - 2s 39us/step - loss: 0.7153 - channel_loss: 0.7153 - baseline_loss: 0.7058 - channel_acc: 0.5631 - baseline_acc: 0.5632 - val_loss: 0.7707 - val_channel_loss: 0.7707 - val_baseline_loss: 0.7686 - val_channel_acc: 0.5163 - val_baseline_acc: 0.5163\n",
      "Epoch 24/40\n",
      "54000/54000 [==============================] - 2s 39us/step - loss: 0.7130 - channel_loss: 0.7130 - baseline_loss: 0.7047 - channel_acc: 0.5657 - baseline_acc: 0.5656 - val_loss: 0.7752 - val_channel_loss: 0.7752 - val_baseline_loss: 0.7735 - val_channel_acc: 0.5047 - val_baseline_acc: 0.5043\n",
      "Epoch 25/40\n",
      "54000/54000 [==============================] - 2s 39us/step - loss: 0.7132 - channel_loss: 0.7132 - baseline_loss: 0.7054 - channel_acc: 0.5659 - baseline_acc: 0.5660 - val_loss: 0.7705 - val_channel_loss: 0.7705 - val_baseline_loss: 0.7689 - val_channel_acc: 0.5067 - val_baseline_acc: 0.5065\n",
      "Epoch 26/40\n",
      "54000/54000 [==============================] - 2s 39us/step - loss: 0.7097 - channel_loss: 0.7097 - baseline_loss: 0.7028 - channel_acc: 0.5663 - baseline_acc: 0.5664 - val_loss: 0.7667 - val_channel_loss: 0.7667 - val_baseline_loss: 0.7642 - val_channel_acc: 0.5123 - val_baseline_acc: 0.5117\n",
      "Epoch 27/40\n",
      "54000/54000 [==============================] - 2s 39us/step - loss: 0.7064 - channel_loss: 0.7064 - baseline_loss: 0.7003 - channel_acc: 0.5685 - baseline_acc: 0.5686 - val_loss: 0.7707 - val_channel_loss: 0.7707 - val_baseline_loss: 0.7712 - val_channel_acc: 0.4985 - val_baseline_acc: 0.4985\n"
     ]
    },
    {
     "name": "stdout",
     "output_type": "stream",
     "text": [
      "Epoch 28/40\n",
      "54000/54000 [==============================] - 2s 38us/step - loss: 0.7031 - channel_loss: 0.7031 - baseline_loss: 0.6975 - channel_acc: 0.5733 - baseline_acc: 0.5734 - val_loss: 0.7682 - val_channel_loss: 0.7682 - val_baseline_loss: 0.7676 - val_channel_acc: 0.5105 - val_baseline_acc: 0.5103\n",
      "Epoch 29/40\n",
      "54000/54000 [==============================] - 2s 39us/step - loss: 0.7018 - channel_loss: 0.7018 - baseline_loss: 0.6967 - channel_acc: 0.5732 - baseline_acc: 0.5731 - val_loss: 0.7734 - val_channel_loss: 0.7734 - val_baseline_loss: 0.7760 - val_channel_acc: 0.5108 - val_baseline_acc: 0.5107\n",
      "Epoch 30/40\n",
      "54000/54000 [==============================] - 2s 39us/step - loss: 0.7004 - channel_loss: 0.7004 - baseline_loss: 0.6959 - channel_acc: 0.5732 - baseline_acc: 0.5732 - val_loss: 0.7691 - val_channel_loss: 0.7691 - val_baseline_loss: 0.7705 - val_channel_acc: 0.5110 - val_baseline_acc: 0.5108\n",
      "Epoch 00030: early stopping\n"
     ]
    }
   ],
   "source": [
    "train_res = simple_model.fit(X_train_train,\n",
    "                      [y_train_train,y_train_train],\n",
    "                      batch_size=batch_size,\n",
    "                      epochs=epochs,\n",
    "                      verbose=verbose,\n",
    "                      validation_data=(X_train_val,\n",
    "                                       [y_train_val,y_train_val]),\n",
    "                      callbacks=\n",
    "                      [EarlyStopping(patience=patience,mode='min',verbose=verbose)]\n",
    "                      )"
   ]
  },
  {
   "cell_type": "code",
   "execution_count": 32,
   "metadata": {},
   "outputs": [
    {
     "data": {
      "text/plain": [
       "{'baseline_acc': 0.76880000000000004,\n",
       " 'baseline_loss': 0.69733354682922366,\n",
       " 'channel_acc': 0.76819999999999999,\n",
       " 'channel_loss': 0.69576388959884639,\n",
       " 'loss': 0.69576388959884639}"
      ]
     },
     "execution_count": 32,
     "metadata": {},
     "output_type": "execute_result"
    }
   ],
   "source": [
    "eval(simple_model,y_test=[y_test,y_test])"
   ]
  }
 ],
 "metadata": {
  "anaconda-cloud": {},
  "kernelspec": {
   "display_name": "Python 3",
   "language": "python",
   "name": "python3"
  },
  "language_info": {
   "codemirror_mode": {
    "name": "ipython",
    "version": 3
   },
   "file_extension": ".py",
   "mimetype": "text/x-python",
   "name": "python",
   "nbconvert_exporter": "python",
   "pygments_lexer": "ipython3",
   "version": "3.6.1"
  }
 },
 "nbformat": 4,
 "nbformat_minor": 2
}
